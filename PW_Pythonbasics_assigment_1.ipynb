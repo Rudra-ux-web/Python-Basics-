{
  "nbformat": 4,
  "nbformat_minor": 0,
  "metadata": {
    "colab": {
      "provenance": []
    },
    "kernelspec": {
      "name": "python3",
      "display_name": "Python 3"
    },
    "language_info": {
      "name": "python"
    }
  },
  "cells": [
    {
      "cell_type": "code",
      "execution_count": null,
      "metadata": {
        "id": "ir7sOgbtNSQe"
      },
      "outputs": [],
      "source": []
    },
    {
      "cell_type": "markdown",
      "source": [
        "\n",
        "### 1. What is Python, and why is it popular?\n",
        "* Python is a high-level, general-purpose, interpreted programming language created by Guido van Rossum in 1991.\n",
        "* It is designed to be simple, readable, and easy to learn.\n",
        "* Python supports multiple programming paradigms: procedural, object-oriented, and functional.\n",
        "* Why is Python popular?\n",
        "\n",
        "1.Easy syntax– almost like English, beginners can learn quickly.\n",
        "\n",
        "2.Large standard library– supports networking, web, data handling, etc.\n",
        "\n",
        "3.Versatile– used in web development, data science, AI, machine learning, IoT, automation, etc.\n",
        "\n",
        "4.Cross-platform– works on Windows, Linux, Mac, etc.\n",
        "\n",
        "5.Community support – huge community with frameworks like Django, Flask, TensorFlow, Pandas.\n",
        "\n",
        "---\n",
        "\n",
        "### 2. What is an interpreter in Python?\n",
        "\n",
        "* Python is an interpreted language, meaning code is executed line by line.\n",
        "* The interpreter translates human-readable Python code into machine instructions** at runtime.\n",
        "* This allows quick testing, debugging, and flexibility, unlike compiled languages like C/C++ where the whole program is compiled first.\n",
        "\n",
        "### 3. What are pre-defined keywords in Python?\n",
        "\n",
        "* Keywords are reserved words in Python that have predefined meanings.\n",
        "* They define the structure and syntax of the language.\n",
        "* Examples: if, else, for, while, def, class, return.\n",
        "* As of Python 3.11, there are 35 keywords.\n",
        "##4. Can keywords be used as variable names?\n",
        "* No, Keywords are reserved and cannot be redefined as variable names.\n",
        "* If you try to use a keyword as a variable, Python will show SyntaxError.\n",
        "###5. What is mutability in Python?\n",
        "\n",
        "* Mutability refers to whether an object’s content can be changed after it is created.\n",
        "* Mutable objects → values can be changed (lists, sets, dictionaries).\n",
        "* Immutable objects → values cannot be changed (strings, tuples, integers, floats).\n",
        "\n",
        "### 6. Why are lists mutable, but tuples are immutable?\n",
        "\n",
        "* Lists are designed to store dynamic collections → we can add, remove, or modify elements.\n",
        "* Tuples are designed to store fixed data that should not be changed → this makes them faster and memory-efficient.\n",
        "* Tuples are often used as keys in dictionaries or when we want data to remain unchanged.\n",
        "### 7. What is the difference between “==” and “is” operators in Python?**\n",
        "\n",
        "* == checks value equality,are two objects equal in content.\n",
        "* is checks identity do two variables refer to the same object in memory.\n",
        "\n",
        "### 8. What are logical operators in Python?\n",
        "* Logical operators are used to combine conditions:\n",
        "  * and → returns True if both conditions are True.\n",
        "  * or → returns True if at least one condition is True.\n",
        "  * not → reverses a condition.\n",
        "\n",
        "Example:\n",
        "\n",
        "```python\n",
        "x = 10\n",
        "print(x > 5 and x < 20)  # True\n",
        "print(x < 5 or x == 10)  # True\n",
        "print(not(x == 10))      # False\n",
        "```\n",
        "\n",
        "---\n",
        "\n",
        "### **9. What is type casting in Python?**\n",
        "\n",
        "* **Type casting** means converting one data type into another.\n",
        "* Types:\n",
        "\n",
        "  * int(), float(), str(), list(), tuple()\n",
        "### 10. What is the difference between implicit and explicit type casting?\n",
        "* Implicit (Type Conversion)– done automatically by Python.\n",
        "python\n",
        "  x = 10   # int\n",
        "  y = 2.5  # float\n",
        "  z = x + y  # Python converts int → float automatically\n",
        "  print(z)   # 12.5\n",
        "* Explicit (Type Casting)– programmer manually converts.\n",
        "  x = \"15\"\n",
        "  y = int(x)  # str → int\n",
        "  print(y + 5)  # 20\n",
        "### 11. What is the purpose of conditional statements in Python?**\n",
        "\n",
        "* Conditional statements allow programs to make decisions based on conditions.\n",
        "* They control the flow of execution.\n",
        "* Example:\n",
        "  age = 18\n",
        "  if age >= 18:\n",
        "      print(\"Eligible to vote\")\n",
        "  else:\n",
        "      print(\"Not eligible\")\n",
        "### 12. How does the `elif` statement work?\n",
        "\n",
        "* elif stands for else if.\n",
        "* It checks multiple conditions one by one.\n",
        "* If one condition is True, remaining ones are skipped.\n",
        "marks = 75\n",
        "if marks >= 90:\n",
        "    print(\"Excellent\")\n",
        "elif marks >= 60:\n",
        "    print(\"Good\")\n",
        "else:\n",
        "    print(\"Needs improvement\")\n",
        "\n",
        "### **13. What is the difference between for and while loops?**\n",
        "\n",
        "* for loop → used when number of iterations is known(loops through sequences like lists, ranges, strings).\n",
        "* while loop → used when number of iterations is unknown, runs until a condition becomes False.\n",
        "Example:\n",
        "# for loop\n",
        "for i in range(5):\n",
        "    print(i)\n",
        "\n",
        "# while loop\n",
        "x = 0\n",
        "while x < 5:\n",
        "    print(x)\n",
        "    x += 1\n",
        "### 14. Describe a scenario where a while loop is more suitable than a for loop.\n",
        "* A while loop is better when we don’t know in advance how many times we need to run the loop.\n",
        "* Example: ATM PIN verification\n",
        "\n",
        "  ```python\n",
        "  pin = \"1234\"\n",
        "  entered = \"\"\n",
        "  while entered != pin:\n",
        "      entered = input(\"Enter PIN: \")\n",
        "  print(\"Access Granted\")"
      ],
      "metadata": {
        "id": "kLHa-rtpNkYe"
      }
    },
    {
      "cell_type": "code",
      "source": [
        " ### 1.Write a Python program to print \"Hello, World!\"\n",
        " print(\"Hello, World!\")\n",
        ""
      ],
      "metadata": {
        "colab": {
          "base_uri": "https://localhost:8080/"
        },
        "id": "SkT5ZpErl0xN",
        "outputId": "550811b0-2e22-491d-f0e3-786e42579397"
      },
      "execution_count": 1,
      "outputs": [
        {
          "output_type": "stream",
          "name": "stdout",
          "text": [
            "Hello, World!\n"
          ]
        }
      ]
    },
    {
      "cell_type": "code",
      "source": [
        " ## 2.Write a Python program that displays your name and age.\n",
        " name = \"Rudra\"\n",
        " age = 20\n",
        "print(\"My name is\", name, \"and I am\", age, \"years old.\")"
      ],
      "metadata": {
        "colab": {
          "base_uri": "https://localhost:8080/"
        },
        "id": "w2NpohOdlt1y",
        "outputId": "64cf8887-76e8-485f-f73b-5f3688e99126"
      },
      "execution_count": 2,
      "outputs": [
        {
          "output_type": "stream",
          "name": "stdout",
          "text": [
            "My name is Rudra and I am 20 years old.\n"
          ]
        }
      ]
    },
    {
      "cell_type": "code",
      "source": [
        "### 3.Write code to print all the pre-defined keywords in Python using the keyword library.\n",
        "import keyword\n",
        "print(\"Python Keywords are:\")\n",
        "print(keyword.kwlist)"
      ],
      "metadata": {
        "colab": {
          "base_uri": "https://localhost:8080/"
        },
        "id": "5Ac4aMtqoKkZ",
        "outputId": "01752690-40bd-440e-eebb-bad63600da3b"
      },
      "execution_count": 3,
      "outputs": [
        {
          "output_type": "stream",
          "name": "stdout",
          "text": [
            "Python Keywords are:\n",
            "['False', 'None', 'True', 'and', 'as', 'assert', 'async', 'await', 'break', 'class', 'continue', 'def', 'del', 'elif', 'else', 'except', 'finally', 'for', 'from', 'global', 'if', 'import', 'in', 'is', 'lambda', 'nonlocal', 'not', 'or', 'pass', 'raise', 'return', 'try', 'while', 'with', 'yield']\n"
          ]
        }
      ]
    },
    {
      "cell_type": "code",
      "source": [
        "### 4.Write a program that checks if a given word is a Python keyword.\n",
        "import keyword\n",
        "word = input(\"Enter a word: \")\n",
        "if keyword.iskeyword(word):\n",
        "    print(word, \"is a Python keyword.\")\n",
        "else:\n",
        "    print(word, \"is NOT a Python keyword.\")"
      ],
      "metadata": {
        "colab": {
          "base_uri": "https://localhost:8080/"
        },
        "id": "AMvbiizCoqtR",
        "outputId": "9a5c301e-2003-44ef-d7e9-57eab5bf269c"
      },
      "execution_count": 6,
      "outputs": [
        {
          "output_type": "stream",
          "name": "stdout",
          "text": [
            "Enter a word: \"print\"\n",
            "\"print\" is NOT a Python keyword.\n"
          ]
        }
      ]
    },
    {
      "cell_type": "code",
      "source": [
        "### 5.Create a list and tuple in Python, and demonstrate how attempting to change an element works differently for each.\n",
        "def modify(num, lst):\n",
        "    num += 10        # integers are immutable\n",
        "    lst.append(10)   # lists are mutable\n",
        "    print(\"Inside function -> num:\", num, \"list:\", lst)\n",
        "num = 5\n",
        "lst = [1, 2, 3]\n",
        "modify(num, lst)\n",
        "print(\"Outside function -> num:\", num, \"list:\", lst)"
      ],
      "metadata": {
        "colab": {
          "base_uri": "https://localhost:8080/"
        },
        "id": "dS3Sl1DBoqrV",
        "outputId": "e58bb857-7748-48ad-be31-c75adae58c0b"
      },
      "execution_count": 7,
      "outputs": [
        {
          "output_type": "stream",
          "name": "stdout",
          "text": [
            "Inside function -> num: 15 list: [1, 2, 3, 10]\n",
            "Outside function -> num: 5 list: [1, 2, 3, 10]\n"
          ]
        }
      ]
    },
    {
      "cell_type": "code",
      "source": [
        "  ###6. Write a function to demonstrate the behavior of mutable and immutable arguments\n",
        ""
      ],
      "metadata": {
        "id": "yoBLwJ9QoqpF"
      },
      "execution_count": 2,
      "outputs": []
    },
    {
      "cell_type": "code",
      "source": [
        "### 7. Write a program that performs basic arithmetic operations on two user-input numbers.\n",
        "# Program to perform basic arithmetic operations\n",
        "\n",
        "# Taking user input\n",
        "a = float(input(\"Enter first number: \"))\n",
        "b = float(input(\"Enter second number: \"))\n",
        "\n",
        "# Performing operations\n",
        "print(\"Addition:\", a + b)\n",
        "print(\"Subtraction:\", a - b)\n",
        "print(\"Multiplication:\", a * b)\n",
        "\n",
        "# Handling division safely\n",
        "if b != 0:\n",
        "    print(\"Division:\", a / b)\n",
        "    print(\"Floor Division:\", a // b)\n",
        "    print(\"Modulus (Remainder):\", a % b)\n",
        "else:\n",
        "    print(\"Division, Floor Division, and Modulus not possible (cannot divide by zero)\")\n",
        "\n",
        "print(\"Power (a^b):\", a ** b)\n"
      ],
      "metadata": {
        "colab": {
          "base_uri": "https://localhost:8080/"
        },
        "id": "zhGUKxuVoqnG",
        "outputId": "cd4f95c7-aad6-4817-b395-f9154a5bd0f1"
      },
      "execution_count": 3,
      "outputs": [
        {
          "output_type": "stream",
          "name": "stdout",
          "text": [
            "Enter first number: 15\n",
            "Enter second number: 14\n",
            "Addition: 29.0\n",
            "Subtraction: 1.0\n",
            "Multiplication: 210.0\n",
            "Division: 1.0714285714285714\n",
            "Floor Division: 1.0\n",
            "Modulus (Remainder): 1.0\n",
            "Power (a^b): 2.9192926025390624e+16\n"
          ]
        }
      ]
    },
    {
      "cell_type": "code",
      "source": [
        "### 8.Write a program to demonstrate the use of logical operators.\n",
        "# Program to demonstrate logical operators\n",
        "\n",
        "x = int(input(\"Enter first number: \"))\n",
        "y = int(input(\"Enter second number: \"))\n",
        "\n",
        "print(\"\\n--- Demonstrating Logical Operators ---\")\n",
        "\n",
        "# AND operator\n",
        "print(\"x > 0 and y > 0:\", x > 0 and y > 0)\n",
        "\n",
        "# OR operator\n",
        "print(\"x > 0 or y > 0:\", x > 0 or y > 0)\n",
        "\n",
        "# NOT operator\n",
        "print(\"not(x > 0):\", not(x > 0))\n"
      ],
      "metadata": {
        "colab": {
          "base_uri": "https://localhost:8080/"
        },
        "id": "u6WGszDJoqkx",
        "outputId": "5a7e15a3-ec3e-49b7-fa58-b08fea9aee80"
      },
      "execution_count": 4,
      "outputs": [
        {
          "output_type": "stream",
          "name": "stdout",
          "text": [
            "Enter first number: 10\n",
            "Enter second number: 12\n",
            "\n",
            "--- Demonstrating Logical Operators ---\n",
            "x > 0 and y > 0: True\n",
            "x > 0 or y > 0: True\n",
            "not(x > 0): False\n"
          ]
        }
      ]
    },
    {
      "cell_type": "code",
      "source": [
        "### 9.Write a Python program to convert user input from string to integer, float, and boolean types\n",
        "# Program to convert user input to different data types\n",
        "\n",
        "# Taking input (default type is string)\n",
        "value = input(\"Enter a value: \")\n",
        "\n",
        "print(\"\\n--- Type Conversions ---\")\n",
        "print(\"Original (string):\", value, \"| Type:\", type(value))\n",
        "\n",
        "# Convert to integer\n",
        "try:\n",
        "    int_value = int(value)\n",
        "    print(\"As Integer:\", int_value, \"| Type:\", type(int_value))\n",
        "except ValueError:\n",
        "    print(\"Cannot convert to Integer.\")\n",
        "\n",
        "# Convert to float\n",
        "try:\n",
        "    float_value = float(value)\n",
        "    print(\"As Float:\", float_value, \"| Type:\", type(float_value))\n",
        "except ValueError:\n",
        "    print(\"Cannot convert to Float.\")\n",
        "\n",
        "# Convert to boolean\n",
        "bool_value = bool(value)   # Empty string → False, non-empty → True\n",
        "print(\"As Boolean:\", bool_value, \"| Type:\", type(bool_value))\n"
      ],
      "metadata": {
        "colab": {
          "base_uri": "https://localhost:8080/"
        },
        "id": "AqA4Tc6roqin",
        "outputId": "912c0a90-b712-413e-cdea-9905d178df89"
      },
      "execution_count": 5,
      "outputs": [
        {
          "output_type": "stream",
          "name": "stdout",
          "text": [
            "Enter a value: 17\n",
            "\n",
            "--- Type Conversions ---\n",
            "Original (string): 17 | Type: <class 'str'>\n",
            "As Integer: 17 | Type: <class 'int'>\n",
            "As Float: 17.0 | Type: <class 'float'>\n",
            "As Boolean: True | Type: <class 'bool'>\n"
          ]
        }
      ]
    },
    {
      "cell_type": "code",
      "source": [
        "### 10. Write code to demonstrate type casting with list elements.\n",
        "# Original list of strings\n",
        "str_list = [\"10\", \"20\", \"30\", \"40\"]\n",
        "\n",
        "print(\"Original List (strings):\", str_list)\n",
        "\n",
        "# Convert string list → integer list\n",
        "int_list = list(map(int, str_list))\n",
        "print(\"After casting to Integers:\", int_list)\n",
        "\n",
        "# Convert string list → float list\n",
        "float_list = list(map(float, str_list))\n",
        "print(\"After casting to Floats:\", float_list)\n",
        "\n",
        "# Convert integer list → string list\n",
        "str_again = list(map(str, int_list))\n",
        "print(\"Back to Strings:\", str_again)\n"
      ],
      "metadata": {
        "colab": {
          "base_uri": "https://localhost:8080/"
        },
        "id": "n9ee9F5zoqgm",
        "outputId": "ea6c90dc-f220-472b-a4ae-770e9631aab1"
      },
      "execution_count": 7,
      "outputs": [
        {
          "output_type": "stream",
          "name": "stdout",
          "text": [
            "Original List (strings): ['10', '20', '30', '40']\n",
            "After casting to Integers: [10, 20, 30, 40]\n",
            "After casting to Floats: [10.0, 20.0, 30.0, 40.0]\n",
            "Back to Strings: ['10', '20', '30', '40']\n"
          ]
        }
      ]
    },
    {
      "cell_type": "code",
      "source": [
        "### 11.Write a program that checks if a number is positive, negative, or zero.\n",
        "# Program to check if a number is positive, negative, or zero\n",
        "\n",
        "# Taking input from user\n",
        "num = float(input(\"Enter a number: \"))\n",
        "\n",
        "# Checking conditions\n",
        "if num > 0:\n",
        "    print(num, \"is Positive.\")\n",
        "elif num < 0:\n",
        "    print(num, \"is Negative.\")\n",
        "else:\n",
        "    print(\"The number is Zero.\")\n",
        "\n"
      ],
      "metadata": {
        "id": "1mNs1x9EoqeE"
      },
      "execution_count": null,
      "outputs": []
    },
    {
      "cell_type": "code",
      "source": [
        "### 12. Write a for loop to print numbers from 1 to 10.\n",
        "for i in range(1, 11):   # range(start, stop) → stop is excluded\n",
        "    print(i)"
      ],
      "metadata": {
        "colab": {
          "base_uri": "https://localhost:8080/"
        },
        "id": "cpJqWh5L_NVE",
        "outputId": "b7e7dc1b-c4f9-4653-ddb0-9db0e58f0d24"
      },
      "execution_count": 9,
      "outputs": [
        {
          "output_type": "stream",
          "name": "stdout",
          "text": [
            "1\n",
            "2\n",
            "3\n",
            "4\n",
            "5\n",
            "6\n",
            "7\n",
            "8\n",
            "9\n",
            "10\n"
          ]
        }
      ]
    },
    {
      "cell_type": "code",
      "source": [
        "### 13. Program to find the sum of all even numbers between 1 and 50\n",
        "\n",
        "total = 0\n",
        "\n",
        "for i in range(1, 51):   # Loop from 1 to 50\n",
        "    if i % 2 == 0:       # Check if number is even\n",
        "        total += i       # Add even number to total\n",
        "\n",
        "print(\"Sum of even numbers between 1 and 50 is:\", total)\n"
      ],
      "metadata": {
        "colab": {
          "base_uri": "https://localhost:8080/"
        },
        "id": "2LJ3cGlU_NRk",
        "outputId": "d2eb850b-c8ed-436e-8709-a46e691cfb18"
      },
      "execution_count": 11,
      "outputs": [
        {
          "output_type": "stream",
          "name": "stdout",
          "text": [
            "Sum of even numbers between 1 and 50 is: 650\n"
          ]
        }
      ]
    },
    {
      "cell_type": "code",
      "source": [
        "### 14.Program to reverse a string using a while loop\n",
        "\n",
        "text = input(\"Enter a string: \")\n",
        "\n",
        "reversed_text = \"\"   # to store reversed string\n",
        "i = len(text) - 1    # start from last character\n",
        "\n",
        "while i >= 0:\n",
        "    reversed_text += text[i]   # add character from end\n",
        "    i -= 1                     # move backwards\n",
        "\n",
        "print(\"Reversed string:\", reversed_text)\n"
      ],
      "metadata": {
        "colab": {
          "base_uri": "https://localhost:8080/"
        },
        "id": "nztONFbj_NP7",
        "outputId": "914343bb-f0a1-4d30-f6c8-fa381e4d7c6d"
      },
      "execution_count": 14,
      "outputs": [
        {
          "output_type": "stream",
          "name": "stdout",
          "text": [
            "Enter a string: rudra\n",
            "Reversed string: ardur\n"
          ]
        }
      ]
    },
    {
      "cell_type": "code",
      "source": [
        "### 15. Program to calculate factorial of a number using while loop\n",
        "\n",
        "num = int(input(\"Enter a number: \"))\n",
        "\n",
        "fact = 1\n",
        "i = 1\n",
        "\n",
        "while i <= num:\n",
        "    fact *= i   # Multiply fact with current i\n",
        "    i += 1      # Increment counter\n",
        "\n",
        "print(\"Factorial of\", num, \"is:\", fact)\n"
      ],
      "metadata": {
        "colab": {
          "base_uri": "https://localhost:8080/"
        },
        "id": "nNDReV2u_NNb",
        "outputId": "e8f31080-ca72-4235-8f2e-426bb5d35987"
      },
      "execution_count": 12,
      "outputs": [
        {
          "output_type": "stream",
          "name": "stdout",
          "text": [
            "Enter a number: 14\n",
            "Factorial of 14 is: 87178291200\n"
          ]
        }
      ]
    }
  ]
}